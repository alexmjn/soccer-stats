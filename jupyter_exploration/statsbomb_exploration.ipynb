{
 "cells": [
  {
   "cell_type": "code",
   "execution_count": 1,
   "metadata": {},
   "outputs": [],
   "source": [
    "import logging\n",
    "import sys\n",
    "\n",
    "from kloppy import datasets, transform, to_pandas\n",
    "from kloppy.utils import performance_logging\n",
    "\n",
    "\n",
    "def main():\n",
    "\n",
    "    logging.basicConfig(\n",
    "        stream=sys.stdout,\n",
    "        level=logging.INFO,\n",
    "        format=\"%(asctime)s - %(name)s - %(levelname)s - %(message)s\"\n",
    "    )\n",
    "\n",
    "    logger = logging.getLogger(__name__)\n",
    "\n",
    "    dataset = datasets.load(\"statsbomb\", {\"event_types\": [\"pass\", \"take_on\",\"carry\",\"shot\"]}\n",
    "    )\n",
    "\n",
    "    with performance_logging(\"transform\", logger=logger):\n",
    "        dataset = transform(\n",
    "            dataset,\n",
    "            to_orientation=\"FIXED_HOME_AWAY\",\n",
    "            to_pitch_dimensions=[(-5500, 5500), (-3300, 3300)]\n",
    "        )\n",
    "\n",
    "    with performance_logging(\"to pandas\", logger=logger):\n",
    "        dataframe = to_pandas(dataset)\n",
    "\n",
    "    return dataframe"
   ]
  },
  {
   "cell_type": "code",
   "execution_count": 2,
   "metadata": {},
   "outputs": [
    {
     "name": "stdout",
     "output_type": "stream",
     "text": [
      "2020-11-10 17:03:11,462 - kloppy.infra.datasets.core.loading - INFO - Using local cached file C:\\Users\\ajenk/kloppy_datasets/statsbomb/event_data=15946.json\n",
      "2020-11-10 17:03:11,463 - kloppy.infra.datasets.core.loading - INFO - Using local cached file C:\\Users\\ajenk/kloppy_datasets/statsbomb/lineup_data=15946.json\n",
      "2020-11-10 17:03:11,571 - kloppy.infra.serializers.event.statsbomb.serializer - INFO - Determined Fidelity versions: shot v2 / XY v1\n",
      "2020-11-10 17:03:11,572 - kloppy.infra.serializers.event.statsbomb.serializer - INFO - load data took: 92.03ms \n"
     ]
    },
    {
     "name": "stderr",
     "output_type": "stream",
     "text": [
      "C:\\Users\\ajenk\\AppData\\Roaming\\Python\\Python37\\site-packages\\kloppy\\infra\\datasets\\event\\statsbomb.py:12: UserWarning: \n",
      "\n",
      "You are about to use StatsBomb public data.\n",
      "By using this data, you are agreeing to the user agreement. \n",
      "The user agreement can be found here: https://github.com/statsbomb/open-data/blob/master/LICENSE.pdf\n",
      "\n",
      "  \"\\n\\nYou are about to use StatsBomb public data.\"\n"
     ]
    },
    {
     "name": "stdout",
     "output_type": "stream",
     "text": [
      "2020-11-10 17:03:11,650 - kloppy.infra.serializers.event.statsbomb.serializer - INFO - parse data took: 76.84ms \n",
      "2020-11-10 17:03:11,717 - __main__ - INFO - transform took: 62.40ms \n",
      "2020-11-10 17:03:12,445 - __main__ - INFO - to pandas took: 728.27ms \n"
     ]
    }
   ],
   "source": [
    "df_sb = main()"
   ]
  },
  {
   "cell_type": "code",
   "execution_count": 3,
   "metadata": {},
   "outputs": [
    {
     "data": {
      "text/html": [
       "<div>\n",
       "<style scoped>\n",
       "    .dataframe tbody tr th:only-of-type {\n",
       "        vertical-align: middle;\n",
       "    }\n",
       "\n",
       "    .dataframe tbody tr th {\n",
       "        vertical-align: top;\n",
       "    }\n",
       "\n",
       "    .dataframe thead th {\n",
       "        text-align: right;\n",
       "    }\n",
       "</style>\n",
       "<table border=\"1\" class=\"dataframe\">\n",
       "  <thead>\n",
       "    <tr style=\"text-align: right;\">\n",
       "      <th></th>\n",
       "      <th>event_id</th>\n",
       "      <th>event_type</th>\n",
       "      <th>result</th>\n",
       "      <th>success</th>\n",
       "      <th>period_id</th>\n",
       "      <th>timestamp</th>\n",
       "      <th>end_timestamp</th>\n",
       "      <th>ball_state</th>\n",
       "      <th>ball_owning_team</th>\n",
       "      <th>team_id</th>\n",
       "      <th>player_id</th>\n",
       "      <th>coordinates_x</th>\n",
       "      <th>coordinates_y</th>\n",
       "      <th>end_coordinates_x</th>\n",
       "      <th>end_coordinates_y</th>\n",
       "      <th>receiver_player_id</th>\n",
       "      <th>set_piece_type</th>\n",
       "    </tr>\n",
       "  </thead>\n",
       "  <tbody>\n",
       "    <tr>\n",
       "      <th>0</th>\n",
       "      <td>34208ade-2af4-45c3-970e-655937cad938</td>\n",
       "      <td>PASS</td>\n",
       "      <td>COMPLETE</td>\n",
       "      <td>True</td>\n",
       "      <td>1</td>\n",
       "      <td>0.098</td>\n",
       "      <td>2.007</td>\n",
       "      <td>alive</td>\n",
       "      <td>206</td>\n",
       "      <td>206</td>\n",
       "      <td>6581</td>\n",
       "      <td>60.5</td>\n",
       "      <td>40.5</td>\n",
       "      <td>35.5</td>\n",
       "      <td>25.5</td>\n",
       "      <td>6855</td>\n",
       "      <td>KICK_OFF</td>\n",
       "    </tr>\n",
       "    <tr>\n",
       "      <th>1</th>\n",
       "      <td>8e3dacc2-7a39-4301-9053-e78cfec1aa95</td>\n",
       "      <td>CARRY</td>\n",
       "      <td>COMPLETE</td>\n",
       "      <td>True</td>\n",
       "      <td>1</td>\n",
       "      <td>2.007</td>\n",
       "      <td>3.497</td>\n",
       "      <td>alive</td>\n",
       "      <td>206</td>\n",
       "      <td>206</td>\n",
       "      <td>6855</td>\n",
       "      <td>35.5</td>\n",
       "      <td>25.5</td>\n",
       "      <td>35.5</td>\n",
       "      <td>28.5</td>\n",
       "      <td>NaN</td>\n",
       "      <td>NaN</td>\n",
       "    </tr>\n",
       "    <tr>\n",
       "      <th>2</th>\n",
       "      <td>d1cccb73-c7ef-4b02-8267-ebd7f149904b</td>\n",
       "      <td>PASS</td>\n",
       "      <td>INCOMPLETE</td>\n",
       "      <td>False</td>\n",
       "      <td>1</td>\n",
       "      <td>3.497</td>\n",
       "      <td>NaN</td>\n",
       "      <td>alive</td>\n",
       "      <td>206</td>\n",
       "      <td>206</td>\n",
       "      <td>6855</td>\n",
       "      <td>35.5</td>\n",
       "      <td>28.5</td>\n",
       "      <td>NaN</td>\n",
       "      <td>NaN</td>\n",
       "      <td>NaN</td>\n",
       "      <td>NaN</td>\n",
       "    </tr>\n",
       "    <tr>\n",
       "      <th>3</th>\n",
       "      <td>f1cc47d6-4b19-45a6-beb9-33d67fc83f4b</td>\n",
       "      <td>PASS</td>\n",
       "      <td>COMPLETE</td>\n",
       "      <td>True</td>\n",
       "      <td>1</td>\n",
       "      <td>6.785</td>\n",
       "      <td>8.431</td>\n",
       "      <td>alive</td>\n",
       "      <td>217</td>\n",
       "      <td>217</td>\n",
       "      <td>5203</td>\n",
       "      <td>34.5</td>\n",
       "      <td>7.5</td>\n",
       "      <td>34.5</td>\n",
       "      <td>20.5</td>\n",
       "      <td>5470</td>\n",
       "      <td>NaN</td>\n",
       "    </tr>\n",
       "    <tr>\n",
       "      <th>4</th>\n",
       "      <td>f774571f-4b65-43a0-9bfc-6384948d1b82</td>\n",
       "      <td>PASS</td>\n",
       "      <td>COMPLETE</td>\n",
       "      <td>True</td>\n",
       "      <td>1</td>\n",
       "      <td>8.431</td>\n",
       "      <td>9.576</td>\n",
       "      <td>alive</td>\n",
       "      <td>217</td>\n",
       "      <td>217</td>\n",
       "      <td>5470</td>\n",
       "      <td>35.5</td>\n",
       "      <td>20.5</td>\n",
       "      <td>35.5</td>\n",
       "      <td>1.5</td>\n",
       "      <td>5477</td>\n",
       "      <td>NaN</td>\n",
       "    </tr>\n",
       "  </tbody>\n",
       "</table>\n",
       "</div>"
      ],
      "text/plain": [
       "                               event_id event_type      result success  \\\n",
       "0  34208ade-2af4-45c3-970e-655937cad938       PASS    COMPLETE    True   \n",
       "1  8e3dacc2-7a39-4301-9053-e78cfec1aa95      CARRY    COMPLETE    True   \n",
       "2  d1cccb73-c7ef-4b02-8267-ebd7f149904b       PASS  INCOMPLETE   False   \n",
       "3  f1cc47d6-4b19-45a6-beb9-33d67fc83f4b       PASS    COMPLETE    True   \n",
       "4  f774571f-4b65-43a0-9bfc-6384948d1b82       PASS    COMPLETE    True   \n",
       "\n",
       "   period_id  timestamp  end_timestamp ball_state ball_owning_team team_id  \\\n",
       "0          1      0.098          2.007      alive              206     206   \n",
       "1          1      2.007          3.497      alive              206     206   \n",
       "2          1      3.497            NaN      alive              206     206   \n",
       "3          1      6.785          8.431      alive              217     217   \n",
       "4          1      8.431          9.576      alive              217     217   \n",
       "\n",
       "  player_id  coordinates_x  coordinates_y  end_coordinates_x  \\\n",
       "0      6581           60.5           40.5               35.5   \n",
       "1      6855           35.5           25.5               35.5   \n",
       "2      6855           35.5           28.5                NaN   \n",
       "3      5203           34.5            7.5               34.5   \n",
       "4      5470           35.5           20.5               35.5   \n",
       "\n",
       "   end_coordinates_y receiver_player_id set_piece_type  \n",
       "0               25.5               6855       KICK_OFF  \n",
       "1               28.5                NaN            NaN  \n",
       "2                NaN                NaN            NaN  \n",
       "3               20.5               5470            NaN  \n",
       "4                1.5               5477            NaN  "
      ]
     },
     "execution_count": 3,
     "metadata": {},
     "output_type": "execute_result"
    }
   ],
   "source": [
    "df_sb.head()"
   ]
  },
  {
   "cell_type": "code",
   "execution_count": 4,
   "metadata": {},
   "outputs": [
    {
     "data": {
      "text/plain": [
       "(2167, 17)"
      ]
     },
     "execution_count": 4,
     "metadata": {},
     "output_type": "execute_result"
    }
   ],
   "source": [
    "df_sb.shape"
   ]
  },
  {
   "cell_type": "code",
   "execution_count": null,
   "metadata": {},
   "outputs": [],
   "source": []
  }
 ],
 "metadata": {
  "kernelspec": {
   "display_name": "Python 3.7.6 64-bit ('base': conda)",
   "language": "python",
   "name": "python37664bitbaseconda6842cba02d8f4ee08ea82e51efb8678b"
  },
  "language_info": {
   "codemirror_mode": {
    "name": "ipython",
    "version": 3
   },
   "file_extension": ".py",
   "mimetype": "text/x-python",
   "name": "python",
   "nbconvert_exporter": "python",
   "pygments_lexer": "ipython3",
   "version": "3.7.6"
  },
  "varInspector": {
   "cols": {
    "lenName": 16,
    "lenType": 16,
    "lenVar": 40
   },
   "kernels_config": {
    "python": {
     "delete_cmd_postfix": "",
     "delete_cmd_prefix": "del ",
     "library": "var_list.py",
     "varRefreshCmd": "print(var_dic_list())"
    },
    "r": {
     "delete_cmd_postfix": ") ",
     "delete_cmd_prefix": "rm(",
     "library": "var_list.r",
     "varRefreshCmd": "cat(var_dic_list()) "
    }
   },
   "types_to_exclude": [
    "module",
    "function",
    "builtin_function_or_method",
    "instance",
    "_Feature"
   ],
   "window_display": false
  }
 },
 "nbformat": 4,
 "nbformat_minor": 4
}
